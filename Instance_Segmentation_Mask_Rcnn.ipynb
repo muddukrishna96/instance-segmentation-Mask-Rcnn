{
  "cells": [
    {
      "cell_type": "markdown",
      "metadata": {
        "id": "rGWTPWBIx370"
      },
      "source": [
        "## **1. Installation**"
      ]
    },
    {
      "cell_type": "code",
      "execution_count": null,
      "metadata": {
        "id": "Md87Hxgtn6zi"
      },
      "outputs": [],
      "source": [
        "%tensorflow_version 1.x\n",
        "!pip install --upgrade h5py==2.10.0\n",
        "!wget https://pysource.com/extra_files/Mask_RCNN_basic_1.zip\n",
        "!unzip Mask_RCNN_basic_1.zip\n",
        "import sys\n",
        "sys.path.append(\"/content/Mask_RCNN/mrcnn\")\n",
        "from m_rcnn import *\n",
        "from visualize import random_colors, get_mask_contours, draw_mask\n",
        "%matplotlib inline"
      ]
    },
    {
      "cell_type": "code",
      "execution_count": null,
      "metadata": {
        "id": "JvM9sdw3Vou_"
      },
      "outputs": [],
      "source": [
        "!nvidia-smi"
      ]
    },
    {
      "cell_type": "code",
      "execution_count": null,
      "metadata": {
        "id": "tbBqBqna-EkS"
      },
      "outputs": [],
      "source": [
        "!unzip enhanced_25_annotations.zip"
      ]
    },
    {
      "cell_type": "code",
      "execution_count": null,
      "metadata": {
        "id": "Rc2RkOsEIc5o"
      },
      "outputs": [],
      "source": [
        "# Extract Images\n",
        "images_path = \"images.zip\"\n",
        "\n",
        "annotations_path = \"/content/result.json\"\n",
        "\n",
        "extract_images(os.path.join(\"/content/\",images_path), \"/content/dataset\")"
      ]
    },
    {
      "cell_type": "code",
      "execution_count": null,
      "metadata": {
        "id": "Zhu4-g1_Ih3S"
      },
      "outputs": [],
      "source": [
        "dataset_train = load_image_dataset(os.path.join(\"/content/\", annotations_path), \"/content/dataset\", \"train\")\n",
        "dataset_val = load_image_dataset(os.path.join(\"/content/\", annotations_path), \"/content/dataset\", \"val\")\n",
        "class_number = dataset_train.count_classes()\n",
        "print('Train: %d' % len(dataset_train.image_ids))\n",
        "print('Validation: %d' % len(dataset_val.image_ids))\n",
        "print(\"Classes: {}\".format(class_number))"
      ]
    },
    {
      "cell_type": "code",
      "execution_count": null,
      "metadata": {
        "id": "0F_9vATiIl-o"
      },
      "outputs": [],
      "source": [
        "# Load image samples\n",
        "display_image_samples(dataset_train) "
      ]
    },
    {
      "cell_type": "code",
      "source": [],
      "metadata": {
        "id": "JxW_hNgR2C3H"
      },
      "execution_count": null,
      "outputs": []
    },
    {
      "cell_type": "code",
      "execution_count": null,
      "metadata": {
        "id": "jmbb11EdIp0B"
      },
      "outputs": [],
      "source": [
        "# Load Configuration\n",
        "config = CustomConfig(class_number)\n",
        "#config.display()\n",
        "model = load_training_model(config)"
      ]
    },
    {
      "cell_type": "markdown",
      "source": [
        "## **1. Training**\n"
      ],
      "metadata": {
        "id": "rdZxl3AGFq3g"
      }
    },
    {
      "cell_type": "code",
      "execution_count": null,
      "metadata": {
        "id": "fCR0tHbeIwS3"
      },
      "outputs": [],
      "source": [
        "# Start Training\n",
        "# This operation might take a long time.\n",
        "train_head(model, dataset_train, dataset_train, config)"
      ]
    },
    {
      "cell_type": "markdown",
      "metadata": {
        "id": "Omb3Yl6ABqiJ"
      },
      "source": [
        "## **2. Run Mask-RCNN on Images for Testing**\n",
        "\n",
        "You can load here the image and extract the mask using Mask-RCNN\n"
      ]
    },
    {
      "cell_type": "code",
      "execution_count": null,
      "metadata": {
        "id": "IlNYqGhvqb_p"
      },
      "outputs": [],
      "source": [
        "# Load Image\n",
        "\n",
        "img = cv2.imread(\"/content/img0535.png\") #Test image\n",
        "\n",
        "\n",
        "test_model, inference_config = load_inference_model(1, \"/content/mask_rcnn_object_0005.h5\") #Uplod trained weights\n",
        "#test_model, inference_config = load_test_model(class_number)\n",
        "\n",
        "\n",
        "image = cv2.cvtColor(img, cv2.COLOR_BGR2RGB)\n",
        "\n",
        "# Detect results\n",
        "#r = test_model.detect([image])[0]\n",
        "#colors = random_colors(80)\n",
        "\n",
        "######################\n",
        "# Run detection\n",
        "results = test_model.detect([image], verbose=1)\n",
        "\n",
        "colors = random_colors(80)\n",
        "\n",
        "# Visualize results\n",
        "r = results[0]\n",
        "visualize.display_instances(image, r['rois'], r['masks'], r['class_ids'], r['scores'])\n"
      ]
    },
    {
      "cell_type": "code",
      "execution_count": null,
      "metadata": {
        "id": "MnW8ETPKzqFT"
      },
      "outputs": [],
      "source": [
        "from google.colab.patches import cv2_imshow\n",
        "#from matplotlib.patches import Rectangle\n",
        "\n",
        "# Get Coordinates and show it on the image\n",
        "boxes = r[\"rois\"]\n",
        "object_count = len(r[\"class_ids\"])\n",
        "for i in range(object_count):\n",
        "    # 1. Mask\n",
        "    mask = r[\"masks\"][:, :, i]\n",
        "    contours = get_mask_contours(mask)\n",
        "    for cnt in contours:\n",
        "        img = cv2.polylines(img, [cnt], True, colors[i], 2)\n",
        "        img = draw_mask(img, [cnt], colors[i])\n",
        "\n",
        "print((object_count))\n",
        "cv2_imshow(img)"
      ]
    },
    {
      "cell_type": "code",
      "execution_count": null,
      "metadata": {
        "id": "OF20xh1mIi5I"
      },
      "outputs": [],
      "source": [
        "import numpy as np\n",
        "import cv2\n",
        "cv2_imshow(img)\n",
        "im = cv2.imread(\"/content/right20025_07_07_22_15_00_Uhr_wbmode1_32.jpg\") #Test image\n",
        "imgray = cv2.cvtColor(img,cv2.COLOR_BGR2GRAY)\n",
        "ret,thresh = cv2.threshold(imgray,127,255,0)\n",
        "contours, hierarchy = cv2.findContours(thresh,cv2.RETR_TREE,cv2.CHAIN_APPROX_SIMPLE)\n",
        "print(len(contours))\n",
        "cv2_imshow(cv2.drawContours(im,contours,-1,(0,255,0),3))\n",
        "cv2_imshow(imgray)"
      ]
    },
    {
      "cell_type": "code",
      "execution_count": null,
      "metadata": {
        "colab": {
          "base_uri": "https://localhost:8080/"
        },
        "id": "iZvixxLbagbC",
        "outputId": "0cce47bc-0d06-43b9-c4df-f14020afb20e"
      },
      "outputs": [
        {
          "output_type": "execute_result",
          "data": {
            "text/plain": [
              "True"
            ]
          },
          "metadata": {},
          "execution_count": 65
        }
      ],
      "source": [
        "import cv2\n",
        "\n",
        "img = cv2.imread(\"/content/right20025_07_07_22_15_00_Uhr_wbmode1_32.jpg\") #Test image\n",
        "screen_res = 1280, 720\n",
        "scale_width = screen_res[0] / img.shape[1]\n",
        "scale_height = screen_res[1] / img.shape[0]\n",
        "scale = min(scale_width, scale_height)\n",
        "window_width = int(img.shape[1] * scale)\n",
        "window_height = int(img.shape[0] * scale)\n",
        "\n",
        "#Shrimps = 25\n",
        "position = (10,40)\n",
        "\n",
        "cv2.resize(img, (window_width, window_height))\n",
        "cv2.putText(img, str(object_count), position, cv2.FONT_HERSHEY_SIMPLEX,1, (0,255,0),2) #(209, 80, 0, 255),3)\n",
        "cv2.imwrite(\"/content/Op_frame434.png\",img)"
      ]
    },
    {
      "cell_type": "code",
      "execution_count": null,
      "metadata": {
        "colab": {
          "base_uri": "https://localhost:8080/"
        },
        "id": "TK5v_1qrdtZG",
        "outputId": "325f6118-2db7-469e-f0ed-6a8cef072384"
      },
      "outputs": [
        {
          "output_type": "execute_result",
          "data": {
            "text/plain": [
              "(544, 960, 14)"
            ]
          },
          "metadata": {},
          "execution_count": 66
        }
      ],
      "source": [
        "mask = r['masks']\n",
        "mask = mask.astype(int)\n",
        "mask.shape\n",
        "# 17 in the output means how many Shrimps were detected"
      ]
    },
    {
      "cell_type": "code",
      "execution_count": null,
      "metadata": {
        "id": "RWhaCIKhPvvZ"
      },
      "outputs": [],
      "source": [
        "for i in range(mask.shape[2]):\n",
        "    temp = cv2.imread('/content/right20025_07_07_22_15_00_Uhr_wbmode1_32.jpg')\n",
        "  \n",
        "    path = \"/content/output\"+str(i)+\".jpg\" ## create file output in the workspace\n",
        "    \n",
        "    for j in range(temp.shape[2]):\n",
        "        temp[:,:,j] = temp[:,:,j] * mask[:,:,i]\n",
        "        #temp[:,:,j] = temp[0,255,j] * mask[:,:,i]\n",
        "       \n",
        "    cv2.imwrite(path,temp)\n",
        "    cv2_imshow(temp)\n",
        "    print(temp.shape[2])\n",
        "\n",
        "\n"
      ]
    },
    {
      "cell_type": "markdown",
      "source": [
        "## length calculations"
      ],
      "metadata": {
        "id": "DGqDHeeZGhM7"
      }
    },
    {
      "cell_type": "code",
      "execution_count": null,
      "metadata": {
        "id": "TYbtp5g65UQ_"
      },
      "outputs": [],
      "source": [
        "import cv2\n",
        "import numpy as np\n",
        "import os\n",
        "import math\n",
        "import glob\n",
        "from google.colab.patches import cv2_imshow\n",
        "\n",
        "\n",
        "def length_cal(Path):\n",
        "   # Load image, grayscale, Gaussian blur, threshold\n",
        "    image = cv2.imread(Path)\n",
        "\n",
        "    gray = cv2.cvtColor(image, cv2.COLOR_BGR2GRAY)\n",
        "    blur = cv2.GaussianBlur(gray, (3,3), 0)\n",
        "    thresh = cv2.threshold(blur,10, 255, cv2.THRESH_BINARY)[1]\n",
        "\n",
        "    #(thresh, blackAndWhiteImage) = cv2.threshold(blur, 115, 255 ,cv2.THRESH_BINARY_INV) \n",
        "\n",
        "    # Find contours\n",
        "    cnts = cv2.findContours(thresh, cv2.RETR_EXTERNAL, cv2.CHAIN_APPROX_SIMPLE)\n",
        "    cnts = cnts[0] if len(cnts) == 2 else cnts[1]\n",
        "    c = max(cnts, key=cv2.contourArea)\n",
        "\n",
        "    # Obtain outer coordinates\n",
        "    left = tuple(c[c[:, :, 0].argmin()][0])\n",
        "    right = tuple(c[c[:, :, 0].argmax()][0])\n",
        "    top = tuple(c[c[:, :, 1].argmin()][0])\n",
        "    bottom = tuple(c[c[:, :, 1].argmax()][0])\n",
        "\n",
        "\n",
        "    cv2_imshow(thresh)\n",
        "    cv2_imshow(thresh)\n",
        "    cv2.waitKey()\n",
        "    cv2.imwrite(f'/content/thres/{Path}.png', thresh) \n",
        "\n",
        "    #import matplotlib.pyplot as plt\n",
        "    #im =  plt.imread(r'/content/download.png')\n",
        "    #implot = plt.imshow(im)\n",
        "    # put a blue dot at (10, 20)\n",
        "    #plt.scatter(left[0], left[1],s=0.5)\n",
        "    #plt.scatter(right[0], right[1],s=0.5)\n",
        "    #plt.scatter(top[0], top[1],s=0.5)\n",
        "    #plt.scatter(bottom[0], bottom[1],s=0.5)\n",
        "    \n",
        "  \n",
        "    #plt.savefig(r'/content/outputwithoutput.png',dpi=300)\n",
        "\n",
        "    #plt.show()\n",
        "\n",
        "    ListOfCoordinates = []\n",
        "    ListOfCoordinates.append(left)\n",
        "    ListOfCoordinates.append(right)\n",
        "    ListOfCoordinates.append(top)\n",
        "    ListOfCoordinates.append(bottom)\n",
        "\n",
        "    print(ListOfCoordinates)\n",
        "    def distance(p1, p2):\n",
        "        return math.sqrt((p1[0] - p2[0])**2 + (p1[1] - p2[1])**2)\n",
        "\n",
        "    dist_cordinates = []\n",
        "\n",
        "    for i in range(3):\n",
        "\n",
        "       (dist_cordinates.append(distance(ListOfCoordinates[0], ListOfCoordinates[i+1])))    \n",
        "\n",
        "    (dist_cordinates.append(distance(ListOfCoordinates[1], ListOfCoordinates[2])))\n",
        "    (dist_cordinates.append(distance(ListOfCoordinates[1], ListOfCoordinates[3])))\n",
        "    (dist_cordinates.append(distance(ListOfCoordinates[2], ListOfCoordinates[3])))\n",
        "    \n",
        "    return(max(dist_cordinates )* 0.174)##  0.1176\n",
        "\n"
      ]
    },
    {
      "cell_type": "code",
      "execution_count": null,
      "metadata": {
        "id": "_2uMxYtaKdmx"
      },
      "outputs": [],
      "source": [
        "length_list= []\n",
        "#x = np.empty[]\n",
        "\n",
        "for img in glob.glob('/content/output*.jpg'):\n",
        "    \n",
        "    l = length_cal(img)\n",
        "    print(l)\n",
        "    length_list.append(l)\n",
        "\n",
        "print(length_list)\n",
        "print(\"max length\", max(length_list))\n",
        "def average(lst):\n",
        "  return sum(lst) / len(lst)\n",
        "\n",
        "average_length = average(length_list)\n",
        "\n",
        "\n",
        "print(\"Average length = \",round(average_length, 2))"
      ]
    },
    {
      "cell_type": "code",
      "execution_count": null,
      "metadata": {
        "id": "7lREk2YcsBAq"
      },
      "outputs": [],
      "source": [
        "import cv2\n",
        "\n",
        "img = cv2.imread(\"/content/output.png\")\n",
        "screen_res = 1280, 720\n",
        "scale_width = screen_res[0] / img.shape[1]\n",
        "scale_height = screen_res[1] / img.shape[0]\n",
        "scale = min(scale_width, scale_height)\n",
        "window_width = int(img.shape[1] * scale)\n",
        "window_height = int(img.shape[0] * scale)\n",
        "\n",
        "cv2.resize(img, (window_width, window_height))\n",
        " \n",
        "# Using cv2.putText()\n",
        "new_image = cv2.putText(\n",
        "  img = img,\n",
        "  text = \"Average length ={:.2f}\".format(average_length),\n",
        "  org = (10,40),\n",
        "  fontFace = cv2.FONT_HERSHEY_DUPLEX,\n",
        "  fontScale = 1.0,\n",
        "  color = (0, 255, 0),\n",
        "  thickness = 2\n",
        ")\n",
        " \n",
        "# Saving the new image\n",
        "cv2.imwrite(\"/content/length.png\", new_image)"
      ]
    },
    {
      "cell_type": "code",
      "execution_count": null,
      "metadata": {
        "id": "NfG0uiOgbw0c"
      },
      "outputs": [],
      "source": []
    },
    {
      "cell_type": "code",
      "execution_count": null,
      "metadata": {
        "colab": {
          "base_uri": "https://localhost:8080/"
        },
        "id": "bimnr2aQbw8Q",
        "outputId": "ced92ce2-7518-4cdf-d451-2a8739526cfc"
      },
      "outputs": [
        {
          "name": "stdout",
          "output_type": "stream",
          "text": [
            "Looking in indexes: https://pypi.org/simple, https://us-python.pkg.dev/colab-wheels/public/simple/\n",
            "Requirement already satisfied: imutils in /usr/local/lib/python3.7/dist-packages (0.5.4)\n",
            "Looking in indexes: https://pypi.org/simple, https://us-python.pkg.dev/colab-wheels/public/simple/\n",
            "Requirement already satisfied: imutils in /usr/local/lib/python3.7/dist-packages (0.5.4)\n"
          ]
        }
      ],
      "source": [
        "import cv2\n",
        "import numpy as np\n",
        "import os\n",
        "import math\n",
        "import glob\n",
        "from google.colab.patches import cv2_imshow\n",
        "!pip install imutils\n",
        "!pip install --upgrade imutils\n",
        "import imutils\n",
        "from scipy.spatial import distance as dist\n",
        "from imutils import perspective\n",
        "from imutils import contours\n",
        "import numpy as np\n",
        "import argparse\n",
        "\n"
      ]
    },
    {
      "cell_type": "code",
      "execution_count": null,
      "metadata": {
        "id": "7ptLeAGJeUlf"
      },
      "outputs": [],
      "source": [
        "# sorting the contours function\n",
        "def sort_contours(cnts, method=\"left-to-right\"):\n",
        "\t# initialize the reverse flag and sort index\n",
        "\treverse = False\n",
        "\ti = 0\n",
        "\t# handle if we need to sort in reverse\n",
        "\tif method == \"right-to-left\" or method == \"bottom-to-top\":\n",
        "\t\treverse = True\n",
        "\t# handle if we are sorting against the y-coordinate rather than\n",
        "\t# the x-coordinate of the bounding box\n",
        "\tif method == \"top-to-bottom\" or method == \"bottom-to-top\":\n",
        "\t\ti = 1\n",
        "\t# construct the list of bounding boxes and sort them from top to\n",
        "\t# bottom\n",
        "\tboundingBoxes = [cv2.boundingRect(c) for c in cnts]\n",
        "\t(cnts, boundingBoxes) = zip(*sorted(zip(cnts, boundingBoxes),\n",
        "\t\tkey=lambda b:b[1][i], reverse=reverse))\n",
        "\t# return the list of sorted contours and bounding boxes\n",
        "\treturn (cnts, boundingBoxes)"
      ]
    },
    {
      "cell_type": "code",
      "execution_count": null,
      "metadata": {
        "id": "DOWJYOiyfIT0"
      },
      "outputs": [],
      "source": [
        "#finding mid point function\n",
        "\n",
        "def midpoint(ptA, ptB):\n",
        "\treturn ((ptA[0] + ptB[0]) * 0.5, (ptA[1] + ptB[1]) * 0.5)"
      ]
    },
    {
      "cell_type": "code",
      "execution_count": null,
      "metadata": {
        "id": "c31-u9osfaVZ"
      },
      "outputs": [],
      "source": [
        "# construct the argument parse and parse the arguments\n",
        "ap = argparse.ArgumentParser()\n",
        "ap.add_argument(\"-i\", \"--image\", required=True,\n",
        "\thelp=\"path to the input image\")\n",
        "ap.add_argument(\"-w\", \"--width\", type=float, required=True,\n",
        "\thelp=\"width of the left-most object in the image (in inches)\")\n",
        "args = vars(ap.parse_args())"
      ]
    },
    {
      "cell_type": "code",
      "execution_count": null,
      "metadata": {
        "id": "J5kiShdBdhfd"
      },
      "outputs": [],
      "source": [
        "def length_cal(Path):\n",
        "   # Load image, grayscale, Gaussian blur, threshold\n",
        "    image = cv2.imread(Path)\n",
        "\n",
        "    gray = cv2.cvtColor(image, cv2.COLOR_BGR2GRAY)\n",
        "    blur = cv2.GaussianBlur(gray, (3,3), 0)\n",
        "    thresh = cv2.threshold(blur,10, 255, cv2.THRESH_BINARY)[1]\n",
        "\n",
        "    #(thresh, blackAndWhiteImage) = cv2.threshold(blur, 115, 255 ,cv2.THRESH_BINARY_INV) \n",
        "\n",
        "    \n",
        "# find contours in the edge map\n",
        "cnts = cv2.findContours(thresh, cv2.RETR_EXTERNAL,\n",
        "\tcv2.CHAIN_APPROX_SIMPLE)\n",
        "cnts = imutils.grab_contours(cnts)\n",
        "# sort the contours from left-to-right and initialize the\n",
        "# 'pixels per metric' calibration variable\n",
        "(cnts, _) = contours.sort_contours(cnts)\n",
        "pixelsPerMetric = None"
      ]
    },
    {
      "cell_type": "code",
      "execution_count": null,
      "metadata": {
        "id": "NyQb0zbpbw_A"
      },
      "outputs": [],
      "source": [
        "# loop over the contours individually\n",
        "for c in cnts:\n",
        "\t# if the contour is not sufficiently large, ignore it\n",
        "\tif cv2.contourArea(c) < 100:\n",
        "\t\tcontinue\n",
        "\t# compute the rotated bounding box of the contour\n",
        "\torig = image.copy()\n",
        "\tbox = cv2.minAreaRect(c)\n",
        "\tbox = cv2.cv.BoxPoints(box) if imutils.is_cv2() else cv2.boxPoints(box)\n",
        "\tbox = np.array(box, dtype=\"int\")\n",
        "\t# order the points in the contour such that they appear\n",
        "\t# in top-left, top-right, bottom-right, and bottom-left\n",
        "\t# order, then draw the outline of the rotated bounding\n",
        "\t# box\n",
        "\tbox = perspective.order_points(box)\n",
        "\tcv2.drawContours(orig, [box.astype(\"int\")], -1, (0, 255, 0), 2)\n",
        "\t# loop over the original points and draw them\n",
        "\tfor (x, y) in box:\n",
        "\t\tcv2.circle(orig, (int(x), int(y)), 5, (0, 0, 255), -1)"
      ]
    },
    {
      "cell_type": "code",
      "execution_count": null,
      "metadata": {
        "id": "T-HCA2qIbxFJ"
      },
      "outputs": [],
      "source": [
        "# unpack the ordered bounding box, then compute the midpoint\n",
        "\t# between the top-left and top-right coordinates, followed by\n",
        "\t# the midpoint between bottom-left and bottom-right coordinates\n",
        "(tl, tr, br, bl) = box\n",
        "(tltrX, tltrY) = midpoint(tl, tr)\n",
        "(blbrX, blbrY) = midpoint(bl, br)\n",
        "\t# compute the midpoint between the top-left and top-right points,\n",
        "\t# followed by the midpoint between the top-righ and bottom-right\n",
        "(tlblX, tlblY) = midpoint(tl, bl)\n",
        "(trbrX, trbrY) = midpoint(tr, br)\n",
        "\t# draw the midpoints on the image\n",
        "cv2.circle(orig, (int(tltrX), int(tltrY)), 5, (255, 0, 0), -1)\n",
        "cv2.circle(orig, (int(blbrX), int(blbrY)), 5, (255, 0, 0), -1)\n",
        "cv2.circle(orig, (int(tlblX), int(tlblY)), 5, (255, 0, 0), -1)\n",
        "cv2.circle(orig, (int(trbrX), int(trbrY)), 5, (255, 0, 0), -1)\n",
        "\t# draw lines between the midpoints\n",
        "cv2.line(orig, (int(tltrX), int(tltrY)), (int(blbrX), int(blbrY)),\n",
        "\t(255, 0, 255), 2)\n",
        "cv2.line(orig, (int(tlblX), int(tlblY)), (int(trbrX), int(trbrY)),\n",
        "\t(255, 0, 255), 2)"
      ]
    },
    {
      "cell_type": "code",
      "execution_count": null,
      "metadata": {
        "id": "RllFJPjPbxHX"
      },
      "outputs": [],
      "source": [
        "# compute the Euclidean distance between the midpoints\n",
        "dA = dist.euclidean((tltrX, tltrY), (blbrX, blbrY))\t\n",
        "dB = dist.euclidean((tlblX, tlblY), (trbrX, trbrY))\n",
        "\t# if the pixels per metric has not been initialized, then\n",
        "\t# compute it as the ratio of pixels to supplied metric\n",
        "\t# (in this case, inches)\n",
        "if pixelsPerMetric is None:\n",
        "\tpixelsPerMetric = dB / args[\"width\"]"
      ]
    },
    {
      "cell_type": "code",
      "execution_count": null,
      "metadata": {
        "id": "2vRpi7YJbxK_"
      },
      "outputs": [],
      "source": [
        "# compute the size of the object\n",
        "\tdimA = dA / pixelsPerMetric\n",
        "\tdimB = dB / pixelsPerMetric\n",
        "\t# draw the object sizes on the image\n",
        "\tcv2.putText(orig, \"{:.1f}in\".format(dimA),\n",
        "\t\t(int(tltrX - 15), int(tltrY - 10)), cv2.FONT_HERSHEY_SIMPLEX,\n",
        "\t\t0.65, (255, 255, 255), 2)\n",
        "\tcv2.putText(orig, \"{:.1f}in\".format(dimB),\n",
        "\t\t(int(trbrX + 10), int(trbrY)), cv2.FONT_HERSHEY_SIMPLEX,\n",
        "\t\t0.65, (255, 255, 255), 2)\n",
        "\t# show the output image\n",
        "\tcv2.imshow(\"Image\", orig)\n",
        "\tcv2.waitKey(0)"
      ]
    },
    {
      "cell_type": "code",
      "execution_count": null,
      "metadata": {
        "id": "BK19YEFwcJRQ"
      },
      "outputs": [],
      "source": []
    },
    {
      "cell_type": "code",
      "execution_count": null,
      "metadata": {
        "id": "nW8NK5kXcJT3"
      },
      "outputs": [],
      "source": []
    },
    {
      "cell_type": "code",
      "execution_count": null,
      "metadata": {
        "id": "KasqyPLqcJWc"
      },
      "outputs": [],
      "source": []
    },
    {
      "cell_type": "code",
      "execution_count": null,
      "metadata": {
        "id": "eKpLWmT5cJZO"
      },
      "outputs": [],
      "source": []
    },
    {
      "cell_type": "code",
      "execution_count": null,
      "metadata": {
        "id": "9xKfg-LIcJbr"
      },
      "outputs": [],
      "source": []
    }
  ],
  "metadata": {
    "accelerator": "GPU",
    "colab": {
      "collapsed_sections": [],
      "name": "Instance_Segmentation Mask-Rcnn.ipynb",
      "provenance": []
    },
    "gpuClass": "standard",
    "kernelspec": {
      "display_name": "Python 3",
      "language": "python",
      "name": "python3"
    },
    "language_info": {
      "codemirror_mode": {
        "name": "ipython",
        "version": 3
      },
      "file_extension": ".py",
      "mimetype": "text/x-python",
      "name": "python",
      "nbconvert_exporter": "python",
      "pygments_lexer": "ipython3",
      "version": "3.7.9"
    }
  },
  "nbformat": 4,
  "nbformat_minor": 0
}